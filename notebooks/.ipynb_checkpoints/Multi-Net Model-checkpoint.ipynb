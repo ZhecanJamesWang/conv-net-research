{
 "metadata": {
  "name": ""
 },
 "nbformat": 3,
 "nbformat_minor": 0,
 "worksheets": [
  {
   "cells": [
    {
     "cell_type": "heading",
     "level": 1,
     "metadata": {},
     "source": [
      "Multi-Net Model: A Per-Task Convolutional Neural Network System"
     ]
    },
    {
     "cell_type": "markdown",
     "metadata": {},
     "source": [
      "This notebook describes a model that I designed in order to avoid catastrophic interference during online, incremental task learning.\n",
      "\n",
      "~ Joey L. Maalouf"
     ]
    },
    {
     "cell_type": "heading",
     "level": 3,
     "metadata": {},
     "source": [
      "Model Theory"
     ]
    },
    {
     "cell_type": "markdown",
     "metadata": {},
     "source": [
      "The model is based on the concept of creating a convolutional neural network for each of the tasks that our model trains on, for use as a binary classifier. Given some initial batch of data, the model creates binarized versions of the class labels for each of the classes it contains, and trains a new network for each one. It does the same for any new tasks in any future data, ensuring that any class presented to the model, no matter when, will have a network devoted to it.\n",
      "\n",
      "The model predicts output by running the input through each of its internal class convnets and, for each net, outputting a probability (on the scale of 0-1) that the input is of the class corresponding to that net. The model checks which net has the highest probability and returns its corresponding class as the output."
     ]
    },
    {
     "cell_type": "heading",
     "level": 3,
     "metadata": {},
     "source": [
      "Model Demonstration"
     ]
    },
    {
     "cell_type": "markdown",
     "metadata": {},
     "source": [
      "I chose to use the [MNIST](http://yann.lecun.com/exdb/mnist/) dataset for my experimentation. It contains 10 classes (the handwritten digits 0-9). For demonstration purposes, I use classes 0-7 as the initial data and I introduce classes 8 and 9 as incremental additions afterwards."
     ]
    },
    {
     "cell_type": "code",
     "collapsed": false,
     "input": [
      "pwd"
     ],
     "language": "python",
     "metadata": {},
     "outputs": [
      {
       "output_type": "stream",
       "stream": "stdout",
       "text": [
        "/home/jmaalouf/conv-net-ella/notebooks\n"
       ]
      }
     ],
     "prompt_number": 1
    },
    {
     "cell_type": "code",
     "collapsed": false,
     "input": [
      "ls .."
     ],
     "language": "python",
     "metadata": {},
     "outputs": [
      {
       "output_type": "stream",
       "stream": "stdout",
       "text": [
        "\u001b[0m\u001b[01;34mconv_net\u001b[0m/  \u001b[01;34mmodern_net\u001b[0m/  \u001b[01;34mnotebooks\u001b[0m/  README.md  \u001b[01;34mros_workspace\u001b[0m/\r\n"
       ]
      }
     ],
     "prompt_number": 2
    },
    {
     "cell_type": "code",
     "collapsed": false,
     "input": [
      "cd ../conv_net/"
     ],
     "language": "python",
     "metadata": {},
     "outputs": [
      {
       "output_type": "stream",
       "stream": "stdout",
       "text": [
        "/home/jmaalouf/conv-net-ella/conv_net\n"
       ]
      }
     ],
     "prompt_number": 3
    },
    {
     "cell_type": "code",
     "collapsed": false,
     "input": [
      "run multi-convnet-model.py -h"
     ],
     "language": "python",
     "metadata": {},
     "outputs": [
      {
       "output_type": "stream",
       "stream": "stdout",
       "text": [
        "Usage: multi-convnet-model.py [options]\n",
        "\n",
        "Options:\n",
        "  -h, --help            show this help message and exit\n",
        "  -v, --verbose         print non-essential output to stdout\n",
        "  -t, --test            run additional per-task accuracy tests\n",
        "  -e EPOCHS, --epochs=EPOCHS\n",
        "                        number of epochs for net training\n"
       ]
      }
     ],
     "prompt_number": 4
    },
    {
     "cell_type": "code",
     "collapsed": false,
     "input": [
      "run multi-convnet-model.py -e 8"
     ],
     "language": "python",
     "metadata": {},
     "outputs": [
      {
       "output_type": "stream",
       "stream": "stdout",
       "text": [
        "Batch training model on starting tasks 0-7...\n",
        "Accuracy on tasks 0-7: 0.9938"
       ]
      },
      {
       "output_type": "stream",
       "stream": "stdout",
       "text": [
        "\n",
        "Incrementally training model on new task 8...\n",
        "Accuracy on tasks 0-8: 0.9929"
       ]
      },
      {
       "output_type": "stream",
       "stream": "stdout",
       "text": [
        "\n",
        "Incrementally training model on new task 9...\n",
        "Accuracy on tasks 0-9: 0.9857"
       ]
      },
      {
       "output_type": "stream",
       "stream": "stdout",
       "text": [
        "\n"
       ]
      }
     ],
     "prompt_number": 5
    },
    {
     "cell_type": "markdown",
     "metadata": {},
     "source": [
      "As we can see from the output above, the model is quite accurate, but unfortunately still suffers from catastrophic interference; note how the accuracy decreases with each new task introduced. My current efforts are aimed at addressing this issue.\n",
      "\n",
      "For reference, let's look at how a fairly standard convolutional neural network does on MNIST:"
     ]
    },
    {
     "cell_type": "code",
     "collapsed": false,
     "input": [
      "cd ../conv_net/\n"
     ],
     "language": "python",
     "metadata": {},
     "outputs": [
      {
       "output_type": "stream",
       "stream": "stdout",
       "text": [
        "/home/jmaalouf/conv-net-ella/conv_net\n"
       ]
      }
     ],
     "prompt_number": 1
    },
    {
     "cell_type": "code",
     "collapsed": false,
     "input": [
      "run convnet.py"
     ],
     "language": "python",
     "metadata": {},
     "outputs": [
      {
       "output_type": "stream",
       "stream": "stdout",
       "text": [
        "0.9256\n",
        "0.9628"
       ]
      },
      {
       "output_type": "stream",
       "stream": "stdout",
       "text": [
        "\n",
        "0.9821"
       ]
      },
      {
       "output_type": "stream",
       "stream": "stdout",
       "text": [
        "\n",
        "0.986"
       ]
      },
      {
       "output_type": "stream",
       "stream": "stdout",
       "text": [
        "\n",
        "0.9892"
       ]
      },
      {
       "output_type": "stream",
       "stream": "stdout",
       "text": [
        "\n",
        "0.9898"
       ]
      },
      {
       "output_type": "stream",
       "stream": "stdout",
       "text": [
        "\n",
        "0.9912"
       ]
      },
      {
       "output_type": "stream",
       "stream": "stdout",
       "text": [
        "\n",
        "0.9915"
       ]
      },
      {
       "output_type": "stream",
       "stream": "stdout",
       "text": [
        "\n",
        "0.9919"
       ]
      },
      {
       "output_type": "stream",
       "stream": "stdout",
       "text": [
        "\n",
        "0.9923"
       ]
      },
      {
       "output_type": "stream",
       "stream": "stdout",
       "text": [
        "\n",
        "Saved weights to \"./saved/W*.txt\"."
       ]
      },
      {
       "output_type": "stream",
       "stream": "stdout",
       "text": [
        "\n",
        "Saved penultimate activations to \"./saved/*A*.txt\"."
       ]
      },
      {
       "output_type": "stream",
       "stream": "stdout",
       "text": [
        "\n",
        "Program complete.\n"
       ]
      },
      {
       "output_type": "stream",
       "stream": "stderr",
       "text": [
        "Using gpu device 0: Tesla K20m\n"
       ]
      }
     ],
     "prompt_number": 2
    },
    {
     "cell_type": "code",
     "collapsed": false,
     "input": [],
     "language": "python",
     "metadata": {},
     "outputs": []
    }
   ],
   "metadata": {}
  }
 ]
}
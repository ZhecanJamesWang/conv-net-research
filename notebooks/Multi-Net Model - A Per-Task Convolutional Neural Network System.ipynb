{
 "metadata": {
  "name": ""
 },
 "nbformat": 3,
 "nbformat_minor": 0,
 "worksheets": [
  {
   "cells": [
    {
     "cell_type": "code",
     "collapsed": false,
     "input": [
      "pwd"
     ],
     "language": "python",
     "metadata": {},
     "outputs": [
      {
       "output_type": "stream",
       "stream": "stdout",
       "text": [
        "/home/jmaalouf/conv-net-ella/notebooks\n"
       ]
      }
     ],
     "prompt_number": 1
    },
    {
     "cell_type": "code",
     "collapsed": false,
     "input": [
      "ls .."
     ],
     "language": "python",
     "metadata": {},
     "outputs": [
      {
       "output_type": "stream",
       "stream": "stdout",
       "text": [
        "\u001b[0m\u001b[01;34mconv_net\u001b[0m/  \u001b[01;34mmodern_net\u001b[0m/  \u001b[01;34mnotebooks\u001b[0m/  README.md  \u001b[01;34mros_workspace\u001b[0m/\r\n"
       ]
      }
     ],
     "prompt_number": 2
    },
    {
     "cell_type": "code",
     "collapsed": false,
     "input": [
      "cd ../conv_net/"
     ],
     "language": "python",
     "metadata": {},
     "outputs": [
      {
       "output_type": "stream",
       "stream": "stdout",
       "text": [
        "/home/jmaalouf/conv-net-ella/conv_net\n"
       ]
      }
     ],
     "prompt_number": 3
    },
    {
     "cell_type": "code",
     "collapsed": false,
     "input": [
      "ls"
     ],
     "language": "python",
     "metadata": {},
     "outputs": [
      {
       "output_type": "stream",
       "stream": "stdout",
       "text": [
        "activations-ella.py    camera-convnet.py          convnet.py   \u001b[0m\u001b[01;34mdeepcnet\u001b[0m/  ELLA.pyc  integration-interference-comparison.py  load.pyc  multi-convnet-model.py  \u001b[01;34msaved\u001b[0m/\r\n",
        "activations-logreg.py  \u001b[01;34mconvnet-dataset-examples\u001b[0m/  convnet.pyc  ELLA.py    \u001b[01;34mfigures\u001b[0m/  load.py                                 \u001b[01;34mmnist\u001b[0m/    ros-camera-convnet.py\r\n"
       ]
      }
     ],
     "prompt_number": 4
    },
    {
     "cell_type": "code",
     "collapsed": false,
     "input": [
      "run multi-convnet-model.py -h"
     ],
     "language": "python",
     "metadata": {},
     "outputs": [
      {
       "output_type": "stream",
       "stream": "stdout",
       "text": [
        "Usage: multi-convnet-model.py [options]\n",
        "\n",
        "Options:\n",
        "  -h, --help            show this help message and exit\n",
        "  -v, --verbose         print output to stdout           (defaults to False)\n",
        "  -t, --test            also run per-task accuracy tests (defaults to False)\n",
        "  -e EPOCHS, --epochs=EPOCHS\n",
        "                        number of epochs to train        (defaults to 10)\n"
       ]
      }
     ],
     "prompt_number": 5
    },
    {
     "cell_type": "code",
     "collapsed": false,
     "input": [],
     "language": "python",
     "metadata": {},
     "outputs": []
    }
   ],
   "metadata": {}
  }
 ]
}

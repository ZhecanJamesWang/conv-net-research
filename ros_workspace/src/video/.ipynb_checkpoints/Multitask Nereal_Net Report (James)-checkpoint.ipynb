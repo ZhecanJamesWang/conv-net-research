{
 "metadata": {
  "name": ""
 },
 "nbformat": 3,
 "nbformat_minor": 0,
 "worksheets": [
  {
   "cells": [
    {
     "cell_type": "heading",
     "level": 1,
     "metadata": {},
     "source": [
      "The Incremental Multi-task Neural Network Model Experiemnt"
     ]
    },
    {
     "cell_type": "heading",
     "level": 4,
     "metadata": {},
     "source": [
      "Zhecan Wang"
     ]
    },
    {
     "cell_type": "heading",
     "level": 3,
     "metadata": {},
     "source": [
      "Structure Description:"
     ]
    },
    {
     "cell_type": "markdown",
     "metadata": {},
     "source": [
      "As a new task appears the model will increase a new neural network refered to that. The new neural network will initilize its weights from the weights of the previous net. Also besides taking its own new task training data, the new net will take 80% of the training data from the previous one, 80% from the two before, 60% from the three before and so on. By mingling the training data, the most updated net will cover the trainning range from the previous. When the model makes prediction, it will use combine the prediction from the most current net and also some of the previous nets. There are several prediction combination methods of the model. "
     ]
    },
    {
     "cell_type": "code",
     "collapsed": false,
     "input": [
      "cd multi_net_model/"
     ],
     "language": "python",
     "metadata": {},
     "outputs": [
      {
       "output_type": "stream",
       "stream": "stdout",
       "text": [
        "/home/zhecan/github/summer_research_conv_net/conv-net-ella/ros_workspace/src/video/multi_net_model\n"
       ]
      }
     ],
     "prompt_number": 2
    },
    {
     "cell_type": "code",
     "collapsed": false,
     "input": [
      "ls"
     ],
     "language": "python",
     "metadata": {},
     "outputs": [
      {
       "output_type": "stream",
       "stream": "stdout",
       "text": [
        "convnet_James.py  multi_net_James_additionn.py  multi_net_James_crop.py\r\n"
       ]
      }
     ],
     "prompt_number": 3
    },
    {
     "cell_type": "raw",
     "metadata": {},
     "source": [
      "convnet_James.py : this file is the general neural network structure file.\n",
      "multi_net_James_additionn.py : this file has the multi_task model with the adding possibility approach of prediction combination\n",
      "multi_net_James_crop.py : this file has the multi_task model with the cropping possibility approach of prediction combination\n"
     ]
    },
    {
     "cell_type": "heading",
     "level": 3,
     "metadata": {},
     "source": [
      "Data Base"
     ]
    },
    {
     "cell_type": "raw",
     "metadata": {},
     "source": [
      "Since, the main goal of this sturcture is to experiment and find a sufficient multi-task network structure, I try to avoid the complexity and deflects in collecting data set and data information itself. Thus, I use minist data 0-9 throughout this structure."
     ]
    },
    {
     "cell_type": "heading",
     "level": 3,
     "metadata": {},
     "source": [
      "Addition Approach"
     ]
    },
    {
     "cell_type": "raw",
     "metadata": {},
     "source": [
      "When every net makes its test set predictions, it will output a n\u00d710 arrays. n is the number of cases. Every case has 10 output probability refered to 10 digit data. Combining the prediction by adding some of the previous net's probabiliy arrays together and then argmax the result."
     ]
    },
    {
     "cell_type": "code",
     "collapsed": false,
     "input": [],
     "language": "python",
     "metadata": {},
     "outputs": []
    }
   ],
   "metadata": {}
  }
 ]
}